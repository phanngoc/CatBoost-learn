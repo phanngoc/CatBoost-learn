{
 "cells": [
  {
   "cell_type": "markdown",
   "id": "3fa08d14",
   "metadata": {},
   "source": [
    "# Catboost starter\n",
    "\n",
    "https://www.kaggle.com/code/kashnitsky/mlcourse-ai-fall-2019-catboost-starter/notebook"
   ]
  },
  {
   "cell_type": "markdown",
   "id": "02502f21",
   "metadata": {},
   "source": [
    "### Giải thích dataset: `train_df`\n",
    "\n",
    "- **`train_df`** là một DataFrame chứa dữ liệu huấn luyện về các chuyến bay.\n",
    "- Mỗi dòng tương ứng với một chuyến bay.\n",
    "\n",
    "#### Các cột trong `train_df`:\n",
    "\n",
    "| Tên cột             | Ý nghĩa                                                        |\n",
    "|---------------------|---------------------------------------------------------------|\n",
    "| `Month`             | Tháng khởi hành (dạng mã hóa, ví dụ: c-8)                     |\n",
    "| `DayofMonth`        | Ngày trong tháng (dạng mã hóa, ví dụ: c-21)                   |\n",
    "| `DayOfWeek`         | Ngày trong tuần (dạng mã hóa, ví dụ: c-7)                     |\n",
    "| `DepTime`           | Giờ khởi hành (dạng số nguyên, ví dụ: 1934)                   |\n",
    "| `UniqueCarrier`     | Hãng hàng không (mã hãng, ví dụ: AA, US, WN,...)              |\n",
    "| `Origin`            | Sân bay đi (mã sân bay, ví dụ: ATL, PIT,...)                  |\n",
    "| `Dest`              | Sân bay đến (mã sân bay, ví dụ: DFW, MCO,...)                 |\n",
    "| `Distance`          | Khoảng cách giữa hai sân bay (dặm)                            |\n",
    "| `dep_delayed_15min` | Chuyến bay có bị trễ trên 15 phút không? (Y: Có, N: Không)    |\n",
    "| `flight`            | Chuỗi kết hợp Origin và Dest (ví dụ: ATL-->DFW)               |\n",
    "\n",
    "- **Mục tiêu dự đoán:** Cột `dep_delayed_15min` (dự đoán chuyến bay có bị trễ trên 15 phút hay không)."
   ]
  },
  {
   "cell_type": "code",
   "execution_count": 6,
   "id": "add028a8",
   "metadata": {},
   "outputs": [],
   "source": [
    "import warnings\n",
    "import numpy as np\n",
    "import pandas as pd\n",
    "from pathlib import Path\n",
    "from sklearn.model_selection import train_test_split\n",
    "from sklearn.metrics import roc_auc_score\n",
    "from catboost import CatBoostClassifier\n"
   ]
  },
  {
   "cell_type": "code",
   "execution_count": 7,
   "id": "3e3106e1",
   "metadata": {},
   "outputs": [],
   "source": [
    "train_df = pd.read_csv('./flight_delays_train.csv')"
   ]
  },
  {
   "cell_type": "code",
   "execution_count": 8,
   "id": "9009528d",
   "metadata": {},
   "outputs": [
    {
     "data": {
      "application/vnd.microsoft.datawrangler.viewer.v0+json": {
       "columns": [
        {
         "name": "index",
         "rawType": "int64",
         "type": "integer"
        },
        {
         "name": "Month",
         "rawType": "object",
         "type": "string"
        },
        {
         "name": "DayofMonth",
         "rawType": "object",
         "type": "string"
        },
        {
         "name": "DayOfWeek",
         "rawType": "object",
         "type": "string"
        },
        {
         "name": "DepTime",
         "rawType": "int64",
         "type": "integer"
        },
        {
         "name": "UniqueCarrier",
         "rawType": "object",
         "type": "string"
        },
        {
         "name": "Origin",
         "rawType": "object",
         "type": "string"
        },
        {
         "name": "Dest",
         "rawType": "object",
         "type": "string"
        },
        {
         "name": "Distance",
         "rawType": "int64",
         "type": "integer"
        },
        {
         "name": "dep_delayed_15min",
         "rawType": "object",
         "type": "string"
        }
       ],
       "conversionMethod": "pd.DataFrame",
       "ref": "bbc3e247-608e-4322-bf45-4b0e744fc8c1",
       "rows": [
        [
         "0",
         "c-8",
         "c-21",
         "c-7",
         "1934",
         "AA",
         "ATL",
         "DFW",
         "732",
         "N"
        ],
        [
         "1",
         "c-4",
         "c-20",
         "c-3",
         "1548",
         "US",
         "PIT",
         "MCO",
         "834",
         "N"
        ],
        [
         "2",
         "c-9",
         "c-2",
         "c-5",
         "1422",
         "XE",
         "RDU",
         "CLE",
         "416",
         "N"
        ],
        [
         "3",
         "c-11",
         "c-25",
         "c-6",
         "1015",
         "OO",
         "DEN",
         "MEM",
         "872",
         "N"
        ],
        [
         "4",
         "c-10",
         "c-7",
         "c-6",
         "1828",
         "WN",
         "MDW",
         "OMA",
         "423",
         "Y"
        ]
       ],
       "shape": {
        "columns": 9,
        "rows": 5
       }
      },
      "text/html": [
       "<div>\n",
       "<style scoped>\n",
       "    .dataframe tbody tr th:only-of-type {\n",
       "        vertical-align: middle;\n",
       "    }\n",
       "\n",
       "    .dataframe tbody tr th {\n",
       "        vertical-align: top;\n",
       "    }\n",
       "\n",
       "    .dataframe thead th {\n",
       "        text-align: right;\n",
       "    }\n",
       "</style>\n",
       "<table border=\"1\" class=\"dataframe\">\n",
       "  <thead>\n",
       "    <tr style=\"text-align: right;\">\n",
       "      <th></th>\n",
       "      <th>Month</th>\n",
       "      <th>DayofMonth</th>\n",
       "      <th>DayOfWeek</th>\n",
       "      <th>DepTime</th>\n",
       "      <th>UniqueCarrier</th>\n",
       "      <th>Origin</th>\n",
       "      <th>Dest</th>\n",
       "      <th>Distance</th>\n",
       "      <th>dep_delayed_15min</th>\n",
       "    </tr>\n",
       "  </thead>\n",
       "  <tbody>\n",
       "    <tr>\n",
       "      <th>0</th>\n",
       "      <td>c-8</td>\n",
       "      <td>c-21</td>\n",
       "      <td>c-7</td>\n",
       "      <td>1934</td>\n",
       "      <td>AA</td>\n",
       "      <td>ATL</td>\n",
       "      <td>DFW</td>\n",
       "      <td>732</td>\n",
       "      <td>N</td>\n",
       "    </tr>\n",
       "    <tr>\n",
       "      <th>1</th>\n",
       "      <td>c-4</td>\n",
       "      <td>c-20</td>\n",
       "      <td>c-3</td>\n",
       "      <td>1548</td>\n",
       "      <td>US</td>\n",
       "      <td>PIT</td>\n",
       "      <td>MCO</td>\n",
       "      <td>834</td>\n",
       "      <td>N</td>\n",
       "    </tr>\n",
       "    <tr>\n",
       "      <th>2</th>\n",
       "      <td>c-9</td>\n",
       "      <td>c-2</td>\n",
       "      <td>c-5</td>\n",
       "      <td>1422</td>\n",
       "      <td>XE</td>\n",
       "      <td>RDU</td>\n",
       "      <td>CLE</td>\n",
       "      <td>416</td>\n",
       "      <td>N</td>\n",
       "    </tr>\n",
       "    <tr>\n",
       "      <th>3</th>\n",
       "      <td>c-11</td>\n",
       "      <td>c-25</td>\n",
       "      <td>c-6</td>\n",
       "      <td>1015</td>\n",
       "      <td>OO</td>\n",
       "      <td>DEN</td>\n",
       "      <td>MEM</td>\n",
       "      <td>872</td>\n",
       "      <td>N</td>\n",
       "    </tr>\n",
       "    <tr>\n",
       "      <th>4</th>\n",
       "      <td>c-10</td>\n",
       "      <td>c-7</td>\n",
       "      <td>c-6</td>\n",
       "      <td>1828</td>\n",
       "      <td>WN</td>\n",
       "      <td>MDW</td>\n",
       "      <td>OMA</td>\n",
       "      <td>423</td>\n",
       "      <td>Y</td>\n",
       "    </tr>\n",
       "  </tbody>\n",
       "</table>\n",
       "</div>"
      ],
      "text/plain": [
       "  Month DayofMonth DayOfWeek  DepTime UniqueCarrier Origin Dest  Distance  \\\n",
       "0   c-8       c-21       c-7     1934            AA    ATL  DFW       732   \n",
       "1   c-4       c-20       c-3     1548            US    PIT  MCO       834   \n",
       "2   c-9        c-2       c-5     1422            XE    RDU  CLE       416   \n",
       "3  c-11       c-25       c-6     1015            OO    DEN  MEM       872   \n",
       "4  c-10        c-7       c-6     1828            WN    MDW  OMA       423   \n",
       "\n",
       "  dep_delayed_15min  \n",
       "0                 N  \n",
       "1                 N  \n",
       "2                 N  \n",
       "3                 N  \n",
       "4                 Y  "
      ]
     },
     "execution_count": 8,
     "metadata": {},
     "output_type": "execute_result"
    }
   ],
   "source": [
    "train_df.head()"
   ]
  },
  {
   "cell_type": "code",
   "execution_count": 14,
   "id": "53807006",
   "metadata": {},
   "outputs": [],
   "source": [
    "test_df = pd.read_csv('./flight_delays_test.csv')"
   ]
  },
  {
   "cell_type": "code",
   "execution_count": 15,
   "id": "0c51f1b4",
   "metadata": {},
   "outputs": [],
   "source": [
    "train_df['flight'] = train_df['Origin'] + '-->' + train_df['Dest']\n",
    "test_df['flight'] = test_df['Origin'] + '-->' + test_df['Dest']"
   ]
  },
  {
   "cell_type": "code",
   "execution_count": 16,
   "id": "1d90232a",
   "metadata": {},
   "outputs": [
    {
     "data": {
      "application/vnd.microsoft.datawrangler.viewer.v0+json": {
       "columns": [
        {
         "name": "index",
         "rawType": "int64",
         "type": "integer"
        },
        {
         "name": "Month",
         "rawType": "object",
         "type": "string"
        },
        {
         "name": "DayofMonth",
         "rawType": "object",
         "type": "string"
        },
        {
         "name": "DayOfWeek",
         "rawType": "object",
         "type": "string"
        },
        {
         "name": "DepTime",
         "rawType": "int64",
         "type": "integer"
        },
        {
         "name": "UniqueCarrier",
         "rawType": "object",
         "type": "string"
        },
        {
         "name": "Origin",
         "rawType": "object",
         "type": "string"
        },
        {
         "name": "Dest",
         "rawType": "object",
         "type": "string"
        },
        {
         "name": "Distance",
         "rawType": "int64",
         "type": "integer"
        },
        {
         "name": "flight",
         "rawType": "object",
         "type": "string"
        }
       ],
       "conversionMethod": "pd.DataFrame",
       "ref": "c40213e8-eadb-41c4-a94f-17784ff7346f",
       "rows": [
        [
         "0",
         "c-7",
         "c-25",
         "c-3",
         "615",
         "YV",
         "MRY",
         "PHX",
         "598",
         "MRY-->PHX"
        ],
        [
         "1",
         "c-4",
         "c-17",
         "c-2",
         "739",
         "WN",
         "LAS",
         "HOU",
         "1235",
         "LAS-->HOU"
        ],
        [
         "2",
         "c-12",
         "c-2",
         "c-7",
         "651",
         "MQ",
         "GSP",
         "ORD",
         "577",
         "GSP-->ORD"
        ],
        [
         "3",
         "c-3",
         "c-25",
         "c-7",
         "1614",
         "WN",
         "BWI",
         "MHT",
         "377",
         "BWI-->MHT"
        ],
        [
         "4",
         "c-6",
         "c-6",
         "c-3",
         "1505",
         "UA",
         "ORD",
         "STL",
         "258",
         "ORD-->STL"
        ]
       ],
       "shape": {
        "columns": 9,
        "rows": 5
       }
      },
      "text/html": [
       "<div>\n",
       "<style scoped>\n",
       "    .dataframe tbody tr th:only-of-type {\n",
       "        vertical-align: middle;\n",
       "    }\n",
       "\n",
       "    .dataframe tbody tr th {\n",
       "        vertical-align: top;\n",
       "    }\n",
       "\n",
       "    .dataframe thead th {\n",
       "        text-align: right;\n",
       "    }\n",
       "</style>\n",
       "<table border=\"1\" class=\"dataframe\">\n",
       "  <thead>\n",
       "    <tr style=\"text-align: right;\">\n",
       "      <th></th>\n",
       "      <th>Month</th>\n",
       "      <th>DayofMonth</th>\n",
       "      <th>DayOfWeek</th>\n",
       "      <th>DepTime</th>\n",
       "      <th>UniqueCarrier</th>\n",
       "      <th>Origin</th>\n",
       "      <th>Dest</th>\n",
       "      <th>Distance</th>\n",
       "      <th>flight</th>\n",
       "    </tr>\n",
       "  </thead>\n",
       "  <tbody>\n",
       "    <tr>\n",
       "      <th>0</th>\n",
       "      <td>c-7</td>\n",
       "      <td>c-25</td>\n",
       "      <td>c-3</td>\n",
       "      <td>615</td>\n",
       "      <td>YV</td>\n",
       "      <td>MRY</td>\n",
       "      <td>PHX</td>\n",
       "      <td>598</td>\n",
       "      <td>MRY--&gt;PHX</td>\n",
       "    </tr>\n",
       "    <tr>\n",
       "      <th>1</th>\n",
       "      <td>c-4</td>\n",
       "      <td>c-17</td>\n",
       "      <td>c-2</td>\n",
       "      <td>739</td>\n",
       "      <td>WN</td>\n",
       "      <td>LAS</td>\n",
       "      <td>HOU</td>\n",
       "      <td>1235</td>\n",
       "      <td>LAS--&gt;HOU</td>\n",
       "    </tr>\n",
       "    <tr>\n",
       "      <th>2</th>\n",
       "      <td>c-12</td>\n",
       "      <td>c-2</td>\n",
       "      <td>c-7</td>\n",
       "      <td>651</td>\n",
       "      <td>MQ</td>\n",
       "      <td>GSP</td>\n",
       "      <td>ORD</td>\n",
       "      <td>577</td>\n",
       "      <td>GSP--&gt;ORD</td>\n",
       "    </tr>\n",
       "    <tr>\n",
       "      <th>3</th>\n",
       "      <td>c-3</td>\n",
       "      <td>c-25</td>\n",
       "      <td>c-7</td>\n",
       "      <td>1614</td>\n",
       "      <td>WN</td>\n",
       "      <td>BWI</td>\n",
       "      <td>MHT</td>\n",
       "      <td>377</td>\n",
       "      <td>BWI--&gt;MHT</td>\n",
       "    </tr>\n",
       "    <tr>\n",
       "      <th>4</th>\n",
       "      <td>c-6</td>\n",
       "      <td>c-6</td>\n",
       "      <td>c-3</td>\n",
       "      <td>1505</td>\n",
       "      <td>UA</td>\n",
       "      <td>ORD</td>\n",
       "      <td>STL</td>\n",
       "      <td>258</td>\n",
       "      <td>ORD--&gt;STL</td>\n",
       "    </tr>\n",
       "  </tbody>\n",
       "</table>\n",
       "</div>"
      ],
      "text/plain": [
       "  Month DayofMonth DayOfWeek  DepTime UniqueCarrier Origin Dest  Distance  \\\n",
       "0   c-7       c-25       c-3      615            YV    MRY  PHX       598   \n",
       "1   c-4       c-17       c-2      739            WN    LAS  HOU      1235   \n",
       "2  c-12        c-2       c-7      651            MQ    GSP  ORD       577   \n",
       "3   c-3       c-25       c-7     1614            WN    BWI  MHT       377   \n",
       "4   c-6        c-6       c-3     1505            UA    ORD  STL       258   \n",
       "\n",
       "      flight  \n",
       "0  MRY-->PHX  \n",
       "1  LAS-->HOU  \n",
       "2  GSP-->ORD  \n",
       "3  BWI-->MHT  \n",
       "4  ORD-->STL  "
      ]
     },
     "execution_count": 16,
     "metadata": {},
     "output_type": "execute_result"
    }
   ],
   "source": [
    "test_df.head()"
   ]
  },
  {
   "cell_type": "code",
   "execution_count": 17,
   "id": "c4a99e14",
   "metadata": {},
   "outputs": [
    {
     "data": {
      "text/plain": [
       "array([0, 1, 2, 4, 5, 6, 8])"
      ]
     },
     "execution_count": 17,
     "metadata": {},
     "output_type": "execute_result"
    }
   ],
   "source": [
    "categ_feat_idx = np.where(train_df.drop('dep_delayed_15min', axis=1).dtypes == 'object')[0]\n",
    "categ_feat_idx"
   ]
  },
  {
   "cell_type": "code",
   "execution_count": 18,
   "id": "406b76da",
   "metadata": {},
   "outputs": [],
   "source": [
    "X_train = train_df.drop('dep_delayed_15min', axis=1).values\n",
    "y_train = train_df['dep_delayed_15min'].map({'Y': 1, 'N': 0}).values\n",
    "X_test = test_df.values"
   ]
  },
  {
   "cell_type": "code",
   "execution_count": 21,
   "id": "7da509d3",
   "metadata": {},
   "outputs": [
    {
     "name": "stdout",
     "output_type": "stream",
     "text": [
      "(100000, 9) (100000,) (100000, 9)\n"
     ]
    }
   ],
   "source": [
    "print(X_train.shape, y_train.shape, X_test.shape)"
   ]
  },
  {
   "cell_type": "code",
   "execution_count": 19,
   "id": "569b1571",
   "metadata": {},
   "outputs": [],
   "source": [
    "X_train_part, X_valid, y_train_part, y_valid = train_test_split(X_train, y_train, \n",
    "                                                                test_size=0.3, \n",
    "                                                                random_state=17)\n"
   ]
  },
  {
   "cell_type": "code",
   "execution_count": 22,
   "id": "21faaffd",
   "metadata": {},
   "outputs": [],
   "source": [
    "ctb = CatBoostClassifier(random_seed=17, silent=True)"
   ]
  },
  {
   "cell_type": "markdown",
   "id": "295761d9",
   "metadata": {},
   "source": [
    "### Giải thích toán học về CatBoostClassifier\n",
    "\n",
    "#### 1. Tổng quan về CatBoost\n",
    "CatBoost là một thuật toán học máy dựa trên cây quyết định (Decision Tree), tối ưu cho dữ liệu dạng bảng (tabular data) và đặc biệt mạnh với các đặc trưng phân loại (categorical features). CatBoost thuộc nhóm thuật toán boosting, cụ thể là Gradient Boosting.\n",
    "\n",
    "#### 2. Gradient Boosting Decision Trees (GBDT)\n",
    "\n",
    "- **Ý tưởng chính:** Xây dựng mô hình dự đoán bằng cách kết hợp nhiều cây quyết định yếu (weak learners) theo từng bước, mỗi bước cố gắng sửa lỗi của các bước trước.\n",
    "- **Hàm mất mát (Loss function):** Đối với bài toán phân loại nhị phân, thường dùng hàm log-loss (logistic loss):\n",
    "\n",
    "    $$\n",
    "    L = -\\frac{1}{N} \\sum_{i=1}^N \\left[ y_i \\log(p_i) + (1 - y_i) \\log(1 - p_i) \\right]\n",
    "    $$\n",
    "\n",
    "    với $y_i \\in \\{0, 1\\}$ là nhãn thực tế, $p_i$ là xác suất dự đoán.\n",
    "\n",
    "- **Cập nhật mô hình:** Ở mỗi bước $m$, mô hình dự đoán mới $F_m(x)$ được cập nhật từ mô hình trước $F_{m-1}(x)$ và một cây mới $h_m(x)$:\n",
    "\n",
    "    $$\n",
    "    F_m(x) = F_{m-1}(x) + \\gamma_m h_m(x)\n",
    "    $$\n",
    "\n",
    "    với $\\gamma_m$ là hệ số học (learning rate).\n",
    "\n",
    "#### 3. Xử lý đặc trưng phân loại (Categorical Features)\n",
    "\n",
    "CatBoost sử dụng kỹ thuật **\"Ordered Target Statistics\"** để mã hóa đặc trưng phân loại, giúp tránh hiện tượng rò rỉ thông tin (target leakage):\n",
    "\n",
    "- Với mỗi giá trị phân loại $c$ của đặc trưng $C$, tính toán trung bình mục tiêu (target mean) chỉ trên các mẫu trước đó (không dùng mẫu hiện tại):\n",
    "\n",
    "    $$\n",
    "    \\text{MeanTarget}(c) = \\frac{\\sum_{j < i} [C_j = c] \\cdot y_j + a \\cdot p}{\\sum_{j < i} [C_j = c] + a}\n",
    "    $$\n",
    "\n",
    "    với $a$ là tham số làm mượt (smoothing), $p$ là xác suất mục tiêu tổng thể.\n",
    "\n",
    "#### 4. Ưu điểm của CatBoost\n",
    "\n",
    "- **Giảm overfitting** nhờ kỹ thuật mã hóa đặc trưng phân loại thông minh.\n",
    "- **Hội tụ nhanh** và hiệu quả với dữ liệu lớn.\n",
    "- **Tự động xử lý missing values** và đặc trưng phân loại.\n",
    "\n",
    "#### 5. Tóm tắt quy trình huấn luyện\n",
    "\n",
    "1. Mã hóa đặc trưng phân loại bằng \"ordered target statistics\".\n",
    "2. Xây dựng dần dần các cây quyết định, mỗi cây học trên phần dư (residual) của mô hình trước.\n",
    "3. Kết hợp các cây thành mô hình cuối cùng để dự đoán xác suất phân loại.\n",
    "\n",
    "---\n",
    "\n",
    "**Tài liệu tham khảo:**  \n",
    "- [CatBoost: unbiased boosting with categorical features](https://arxiv.org/abs/1706.09516)  \n",
    "- [CatBoost Documentation](https://catboost.ai/docs/)"
   ]
  },
  {
   "cell_type": "markdown",
   "id": "37a64f99",
   "metadata": {},
   "source": [
    "### Ví dụ minh họa từng bước tính toán \"ordered target statistics\" cho tất cả đặc trưng phân loại\n",
    "\n",
    "Giả sử ta có 5 dòng dữ liệu đầu tiên từ `train_df` như sau:\n",
    "\n",
    "| Index | Month | DayofMonth | DayOfWeek | DepTime | UniqueCarrier | Origin | Dest | Distance | dep_delayed_15min | flight      |\n",
    "|-------|-------|------------|-----------|---------|---------------|--------|------|----------|-------------------|-------------|\n",
    "| 0     | c-8   | c-21       | c-7       | 1934    | AA            | ATL    | DFW  | 732      | N                 | ATL-->DFW   |\n",
    "| 1     | c-4   | c-20       | c-3       | 1548    | US            | PIT    | MCO  | 834      | N                 | PIT-->MCO   |\n",
    "| 2     | c-9   | c-2        | c-5       | 1422    | XE            | RDU    | CLE  | 416      | N                 | RDU-->CLE   |\n",
    "| 3     | c-11  | c-25       | c-6       | 1015    | OO            | DEN    | MEM  | 872      | N                 | DEN-->MEM   |\n",
    "| 4     | c-10  | c-7        | c-6       | 1828    | WN            | MDW    | OMA  | 423      | Y                 | MDW-->OMA   |\n",
    "\n",
    "#### 1. Xác định các đặc trưng phân loại\n",
    "\n",
    "Các đặc trưng phân\n",
    "- **DayofMonth**: Ngày trong tháng, ví dụ `c-21` là ngày 21.\n",
    "- **DayOfWeek**: Ngày trong tuần, ví dụ `c-7` là Chủ nhật.\n",
    "- **DepTime**: Giờ khởi hành, ví dụ `1934` là 19:34.\n",
    "- **UniqueCarrier**: Hãng bay, ví dụ `AA` là American Airlines.\n",
    "- **Origin**: Sân bay đi, ví dụ `ATL` là Atlanta.\n",
    "- **Dest**: Sân bay đến, ví dụ `DFW` là Dallas/Fort Worth.\n",
    "- **Distance**: Khoảng cách giữa hai sân bay, ví dụ `732` dặm.\n",
    "- **dep_delayed_15min**: Chuyến bay có bị trễ trên 15 phút không? `Y` (Có), `N` (Không).\n",
    "- **flight**: Chuỗi kết hợp Origin và Dest, ví dụ `ATL-->DFW`.\n",
    "\n",
    "#### 2. Ví dụ step-by-step tính toán cho một đặc trưng phân loại\n",
    "\n",
    "Giả sử ta muốn tính **tỷ lệ trễ trung bình** cho hãng bay (`UniqueCarrier`) = `AA` (American Airlines) bằng kỹ thuật \"ordered target statistics\" (CatBoost dùng để mã hóa đặc trưng phân loại):\n",
    "\n",
    "##### Bước 1: Xác định các dòng có `UniqueCarrier` = `AA`\n",
    "\n",
    "Chỉ có dòng đầu tiên:\n",
    "\n",
    "| Index | UniqueCarrier | dep_delayed_15min |\n",
    "|-------|---------------|-------------------|\n",
    "| 0     | AA            | N                 |\n",
    "\n",
    "##### Bước 2: Tính xác suất mục tiêu tổng thể (`p`)\n",
    "\n",
    "- Tổng số chuyến bay: 5\n",
    "- Số chuyến bị trễ (`Y`): 1\n",
    "- Xác suất tổng thể:  \n",
    "    $$\n",
    "    p = \\frac{1}{5} = 0.2\n",
    "    $$\n",
    "\n",
    "##### Bước 3: Tính giá trị trung bình mục tiêu cho `AA` ở từng dòng\n",
    "\n",
    "- Với dòng đầu tiên (index 0), không có mẫu nào trước đó nên chỉ dùng giá trị làm mượt:\n",
    "    $$\n",
    "    \\text{MeanTarget}(AA) = \\frac{a \\cdot p}{a}\n",
    "    $$\n",
    "    Nếu $a = 1$, thì MeanTarget(AA) = 0.2\n",
    "\n",
    "##### Bước 4: Nếu có nhiều dòng cùng hãng, ví dụ thêm dòng thứ 6 cũng là `AA` và bị trễ (`Y`):\n",
    "\n",
    "| Index | UniqueCarrier | dep_delayed_15min |\n",
    "|-------|---------------|-------------------|\n",
    "| 0     | AA            | N                 |\n",
    "| 5     | AA            | Y                 |\n",
    "\n",
    "- Khi xét dòng thứ 6 (index 5), các mẫu trước đó có 1 chuyến `AA` với nhãn `N` (0).\n",
    "- MeanTarget(AA) cho dòng thứ 6:\n",
    "    $$\n",
    "    \\text{MeanTarget}(AA) = \\frac{0 + a \\cdot p}{1 + a}\n",
    "    $$\n",
    "    Nếu $a = 1$, MeanTarget(AA) = (0 + 1*0.2)/(1+1) = 0.1\n",
    "\n",
    "#### 3. Tổng kết\n",
    "\n",
    "- **Các đặc trưng phân loại** như `Month`, `DayofMonth`, `DayOfWeek`, `UniqueCarrier`, `Origin`, `Dest`, `flight` sẽ được mã hóa theo cách này.\n",
    "- **Các đặc trưng số** như `DepTime`, `Distance` giữ nguyên giá trị.\n",
    "- **Mục tiêu dự đoán** là cột `dep_delayed_15min` (Y/N).\n",
    "\n",
    "---\n",
    "\n",
    "**Kỹ thuật này giúp mô hình tận dụng thông tin phân loại mà không gây rò rỉ thông tin (leakage) từ nhãn mục tiêu.**"
   ]
  },
  {
   "cell_type": "code",
   "execution_count": 23,
   "id": "7c96e027",
   "metadata": {},
   "outputs": [],
   "source": [
    "ctb.fit(X_train_part, y_train_part,\n",
    "        cat_features=categ_feat_idx);"
   ]
  },
  {
   "cell_type": "code",
   "execution_count": 24,
   "id": "94acff1b",
   "metadata": {},
   "outputs": [],
   "source": [
    "ctb_valid_pred = ctb.predict_proba(X_valid)[:, 1]"
   ]
  },
  {
   "cell_type": "code",
   "execution_count": 25,
   "id": "54e81b8b",
   "metadata": {},
   "outputs": [
    {
     "data": {
      "text/plain": [
       "np.float64(0.7606850067034667)"
      ]
     },
     "execution_count": 25,
     "metadata": {},
     "output_type": "execute_result"
    }
   ],
   "source": [
    "roc_auc_score(y_valid, ctb_valid_pred)"
   ]
  }
 ],
 "metadata": {
  "kernelspec": {
   "display_name": ".venv",
   "language": "python",
   "name": "python3"
  },
  "language_info": {
   "codemirror_mode": {
    "name": "ipython",
    "version": 3
   },
   "file_extension": ".py",
   "mimetype": "text/x-python",
   "name": "python",
   "nbconvert_exporter": "python",
   "pygments_lexer": "ipython3",
   "version": "3.12.7"
  }
 },
 "nbformat": 4,
 "nbformat_minor": 5
}
